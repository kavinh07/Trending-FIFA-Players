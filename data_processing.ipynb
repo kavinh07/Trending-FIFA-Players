{
 "cells": [
  {
   "cell_type": "code",
   "execution_count": 1,
   "id": "17c30802",
   "metadata": {},
   "outputs": [],
   "source": [
    "import pandas as pd\n",
    "import re"
   ]
  },
  {
   "cell_type": "code",
   "execution_count": 6,
   "id": "ee62b5f4",
   "metadata": {},
   "outputs": [],
   "source": [
    "df = pd.read_excel('data/trending_football_players.xlsx')"
   ]
  },
  {
   "cell_type": "code",
   "execution_count": 7,
   "id": "dfeb3403",
   "metadata": {},
   "outputs": [
    {
     "data": {
      "text/html": [
       "<div>\n",
       "<style scoped>\n",
       "    .dataframe tbody tr th:only-of-type {\n",
       "        vertical-align: middle;\n",
       "    }\n",
       "\n",
       "    .dataframe tbody tr th {\n",
       "        vertical-align: top;\n",
       "    }\n",
       "\n",
       "    .dataframe thead th {\n",
       "        text-align: right;\n",
       "    }\n",
       "</style>\n",
       "<table border=\"1\" class=\"dataframe\">\n",
       "  <thead>\n",
       "    <tr style=\"text-align: right;\">\n",
       "      <th></th>\n",
       "      <th>Player_name</th>\n",
       "      <th>Images</th>\n",
       "      <th>Age</th>\n",
       "      <th>National_team</th>\n",
       "      <th>Positions</th>\n",
       "      <th>Overall</th>\n",
       "      <th>Potential_overall</th>\n",
       "      <th>Current_club</th>\n",
       "      <th>Current_contract</th>\n",
       "      <th>Value</th>\n",
       "      <th>Wage</th>\n",
       "      <th>Total_stats</th>\n",
       "    </tr>\n",
       "  </thead>\n",
       "  <tbody>\n",
       "    <tr>\n",
       "      <th>0</th>\n",
       "      <td>T. Almada</td>\n",
       "      <td>https://cdn.sofifa.net/players/245/371/24_60.png</td>\n",
       "      <td>22</td>\n",
       "      <td>Argentina</td>\n",
       "      <td>['CAM', 'CM', 'CF']</td>\n",
       "      <td>79</td>\n",
       "      <td>87</td>\n",
       "      <td>Atlanta United</td>\n",
       "      <td>2022 ~ 2025</td>\n",
       "      <td>€39.5M</td>\n",
       "      <td>€10K</td>\n",
       "      <td>2050</td>\n",
       "    </tr>\n",
       "    <tr>\n",
       "      <th>1</th>\n",
       "      <td>L. Palma</td>\n",
       "      <td>https://cdn.sofifa.net/player_0.svg</td>\n",
       "      <td>23</td>\n",
       "      <td>Honduras</td>\n",
       "      <td>['LW']</td>\n",
       "      <td>69</td>\n",
       "      <td>75</td>\n",
       "      <td>Celtic</td>\n",
       "      <td>2023 ~ 2028</td>\n",
       "      <td>€2.2M</td>\n",
       "      <td>€22K</td>\n",
       "      <td>1794</td>\n",
       "    </tr>\n",
       "    <tr>\n",
       "      <th>2</th>\n",
       "      <td>R. Lavia</td>\n",
       "      <td>https://cdn.sofifa.net/players/263/620/24_60.png</td>\n",
       "      <td>19</td>\n",
       "      <td>Belgium</td>\n",
       "      <td>['CDM']</td>\n",
       "      <td>73</td>\n",
       "      <td>86</td>\n",
       "      <td>Chelsea</td>\n",
       "      <td>2023 ~ 2030</td>\n",
       "      <td>€7M</td>\n",
       "      <td>€32K</td>\n",
       "      <td>1829</td>\n",
       "    </tr>\n",
       "    <tr>\n",
       "      <th>3</th>\n",
       "      <td>W. Zaïre-Emery</td>\n",
       "      <td>https://cdn.sofifa.net/players/270/673/24_60.png</td>\n",
       "      <td>17</td>\n",
       "      <td>France</td>\n",
       "      <td>['CM', 'CDM']</td>\n",
       "      <td>77</td>\n",
       "      <td>89</td>\n",
       "      <td>Paris Saint Germain</td>\n",
       "      <td>2022 ~ 2025</td>\n",
       "      <td>€24M</td>\n",
       "      <td>€9K</td>\n",
       "      <td>2080</td>\n",
       "    </tr>\n",
       "    <tr>\n",
       "      <th>4</th>\n",
       "      <td>Gabri Veiga</td>\n",
       "      <td>https://cdn.sofifa.net/players/258/729/24_60.png</td>\n",
       "      <td>21</td>\n",
       "      <td>Spain</td>\n",
       "      <td>['CM', 'CAM']</td>\n",
       "      <td>78</td>\n",
       "      <td>89</td>\n",
       "      <td>Al Ahli Jeddah</td>\n",
       "      <td>2023 ~ 2026</td>\n",
       "      <td>€31.5M</td>\n",
       "      <td>€28K</td>\n",
       "      <td>1944</td>\n",
       "    </tr>\n",
       "  </tbody>\n",
       "</table>\n",
       "</div>"
      ],
      "text/plain": [
       "      Player_name                                            Images  Age  \\\n",
       "0       T. Almada  https://cdn.sofifa.net/players/245/371/24_60.png   22   \n",
       "1        L. Palma               https://cdn.sofifa.net/player_0.svg   23   \n",
       "2        R. Lavia  https://cdn.sofifa.net/players/263/620/24_60.png   19   \n",
       "3  W. Zaïre-Emery  https://cdn.sofifa.net/players/270/673/24_60.png   17   \n",
       "4     Gabri Veiga  https://cdn.sofifa.net/players/258/729/24_60.png   21   \n",
       "\n",
       "  National_team            Positions  Overall  Potential_overall  \\\n",
       "0     Argentina  ['CAM', 'CM', 'CF']       79                 87   \n",
       "1      Honduras               ['LW']       69                 75   \n",
       "2       Belgium              ['CDM']       73                 86   \n",
       "3        France        ['CM', 'CDM']       77                 89   \n",
       "4         Spain        ['CM', 'CAM']       78                 89   \n",
       "\n",
       "          Current_club Current_contract   Value  Wage  Total_stats  \n",
       "0       Atlanta United      2022 ~ 2025  €39.5M  €10K         2050  \n",
       "1               Celtic      2023 ~ 2028   €2.2M  €22K         1794  \n",
       "2              Chelsea      2023 ~ 2030     €7M  €32K         1829  \n",
       "3  Paris Saint Germain      2022 ~ 2025    €24M   €9K         2080  \n",
       "4       Al Ahli Jeddah      2023 ~ 2026  €31.5M  €28K         1944  "
      ]
     },
     "execution_count": 7,
     "metadata": {},
     "output_type": "execute_result"
    }
   ],
   "source": [
    "df.head()"
   ]
  },
  {
   "cell_type": "code",
   "execution_count": 8,
   "id": "db0f72fd",
   "metadata": {},
   "outputs": [
    {
     "data": {
      "text/plain": [
       "Player_name          object\n",
       "Images               object\n",
       "Age                   int64\n",
       "National_team        object\n",
       "Positions            object\n",
       "Overall               int64\n",
       "Potential_overall     int64\n",
       "Current_club         object\n",
       "Current_contract     object\n",
       "Value                object\n",
       "Wage                 object\n",
       "Total_stats           int64\n",
       "dtype: object"
      ]
     },
     "execution_count": 8,
     "metadata": {},
     "output_type": "execute_result"
    }
   ],
   "source": [
    "df.dtypes"
   ]
  },
  {
   "cell_type": "code",
   "execution_count": 9,
   "id": "c3a1303d",
   "metadata": {},
   "outputs": [
    {
     "data": {
      "text/plain": [
       "Player_name          0\n",
       "Images               0\n",
       "Age                  0\n",
       "National_team        0\n",
       "Positions            0\n",
       "Overall              0\n",
       "Potential_overall    0\n",
       "Current_club         0\n",
       "Current_contract     0\n",
       "Value                0\n",
       "Wage                 0\n",
       "Total_stats          0\n",
       "dtype: int64"
      ]
     },
     "execution_count": 9,
     "metadata": {},
     "output_type": "execute_result"
    }
   ],
   "source": [
    "df.isnull().sum()"
   ]
  },
  {
   "cell_type": "code",
   "execution_count": 10,
   "id": "7484785a",
   "metadata": {},
   "outputs": [
    {
     "data": {
      "text/plain": [
       "False    2306\n",
       "True      694\n",
       "dtype: int64"
      ]
     },
     "execution_count": 10,
     "metadata": {},
     "output_type": "execute_result"
    }
   ],
   "source": [
    "df.duplicated().value_counts()"
   ]
  },
  {
   "cell_type": "code",
   "execution_count": 11,
   "id": "6355e9ec",
   "metadata": {},
   "outputs": [],
   "source": [
    "df.drop_duplicates(inplace = True)"
   ]
  },
  {
   "cell_type": "code",
   "execution_count": 12,
   "id": "786b413c",
   "metadata": {},
   "outputs": [],
   "source": [
    "df.reset_index(drop = True, inplace = True)"
   ]
  },
  {
   "cell_type": "code",
   "execution_count": 13,
   "id": "98aa9817",
   "metadata": {},
   "outputs": [
    {
     "data": {
      "text/plain": [
       "(2306, 12)"
      ]
     },
     "execution_count": 13,
     "metadata": {},
     "output_type": "execute_result"
    }
   ],
   "source": [
    "df.shape"
   ]
  },
  {
   "cell_type": "code",
   "execution_count": 14,
   "id": "f9e2df19",
   "metadata": {},
   "outputs": [
    {
     "data": {
      "text/plain": [
       "array(['2022 ~ 2025', '2023 ~ 2028', '2023 ~ 2030', '2023 ~ 2026',\n",
       "       '2022 ~ 2026', '2023 ~ 2029', '2022 ~ 2027', '2023 ~ 2027',\n",
       "       '2022 ~ 2028', '2021 ~ 2028', '2020 ~ 2027', '2020 ~ 2025',\n",
       "       '2020 ~ 2026', '2021 ~ 2027', '2017 ~ 2025', 'Jun 30, 2024',\n",
       "       '2020 ~ 2024', '2022 ~ 2024', '2023 ~ 2025', '2018 ~ 2024',\n",
       "       '2016 ~ 2027', '2015 ~ 2028', '2019 ~ 2028', '2017 ~ 2027',\n",
       "       '2016 ~ 2026', '2019 ~ 2025', '2018 ~ 2027', '2021 ~ 2029',\n",
       "       '2019 ~ 2026', 'Free', '2019 ~ 2027', '2021 ~ 2026', '2018 ~ 2026',\n",
       "       '2015 ~ 2025', '2017 ~ 2028', '2023 ~ 2031', '2017 ~ 2032',\n",
       "       '2021 ~ 2025', '2023 ~ 2024', '2020 ~ 2028', '2021 ~ 2024',\n",
       "       '2018 ~ 2025', '2012 ~ 2024', 'Jun 30, 2025', '2018 ~ 2028',\n",
       "       '2016 ~ 2025', '2019 ~ 2024', '2015 ~ 2024', '2013 ~ 2028',\n",
       "       '2013 ~ 2025', '2019 ~ 2023', '2014 ~ 2027', '2014 ~ 2028',\n",
       "       '2022 ~ 2022', '2008 ~ 2024', '2011 ~ 2024', '2010 ~ 2024',\n",
       "       '2017 ~ 2024', '2020 ~ 2030', '2015 ~ 2029', 'Dec 31, 2023',\n",
       "       'Jun 30, 2023', '2014 ~ 2024', '2012 ~ 2027', '2016 ~ 2024',\n",
       "       '2021 ~ 2023', '2022 ~ 2023', '2017 ~ 2026', '2011 ~ 2023',\n",
       "       '2017 ~ 2031', '2020 ~ 2022', '2017 ~ 2023', '2009 ~ 2024',\n",
       "       '2012 ~ 2026', '2010 ~ 2026', '2023 ~ 2023', '2018 ~ 2023',\n",
       "       'May 31, 2024', '2013 ~ 2026', '2015 ~ 2027', '2008',\n",
       "       '2014 ~ 2017', '2020 ~ 2023', '2014 ~ 2026', '2018 ~ 2019',\n",
       "       '2007 ~ 2022', '2013 ~ 2024', '2018 ~ 2022', '2016 ~ 2023',\n",
       "       '2012 ~ 2025', '2014 ~ 2025', '2011 ~ 2026', '2015 ~ 2020',\n",
       "       '2011 ~ 2025', 'Jan 1, 2024', '2011 ~ 2022', '1993 ~ 2017',\n",
       "       '1999 ~ 2014', '2009 ~ 2012', '2015 ~ 2023', '2008 ~ 2017',\n",
       "       '2019 ~ 2020', '2002 ~ 2018', '2020 ~ 2021', '2015 ~ 2016',\n",
       "       '2015 ~ 2019', '2015 ~ 2017', '2019 ~ 2021', '2021 ~ 2021',\n",
       "       'Jun 30, 2019', '2019 ~ 2022', 'Dec 31, 2024', '2018 ~ 2021'],\n",
       "      dtype=object)"
      ]
     },
     "execution_count": 14,
     "metadata": {},
     "output_type": "execute_result"
    }
   ],
   "source": [
    "df.Current_contract.unique()"
   ]
  },
  {
   "cell_type": "code",
   "execution_count": 15,
   "id": "d21fbef2",
   "metadata": {},
   "outputs": [],
   "source": [
    "def name_process(value):\n",
    "    value = str(value)\n",
    "    value = re.sub(r\"\\d+\", \"\", value)\n",
    "    value = re.sub(r\"\\s+\", \" \", value)\n",
    "    \n",
    "    return value"
   ]
  },
  {
   "cell_type": "code",
   "execution_count": 16,
   "id": "a2d09397",
   "metadata": {},
   "outputs": [],
   "source": [
    "values = df.pop('Current_contract')\n",
    "Contract_start = []\n",
    "Contract_end = []\n",
    "for value in values:\n",
    "    value = str(value)\n",
    "    if value == \"Free\":\n",
    "        Contract_start.append(value)\n",
    "        Contract_end.append(value)\n",
    "    else: \n",
    "        v = value.split('~')\n",
    "        Contract_start.append(v[0])\n",
    "        if len(v) > 1:\n",
    "            Contract_end.append(v[1])\n",
    "        else:\n",
    "            Contract_end.append(\"\")\n",
    "\n",
    "df.insert(8, \"Contract_end\", Contract_end)\n",
    "df.insert(8, \"Contract_start\", Contract_start)"
   ]
  },
  {
   "cell_type": "code",
   "execution_count": 17,
   "id": "16d9cdd7",
   "metadata": {},
   "outputs": [
    {
     "data": {
      "text/html": [
       "<div>\n",
       "<style scoped>\n",
       "    .dataframe tbody tr th:only-of-type {\n",
       "        vertical-align: middle;\n",
       "    }\n",
       "\n",
       "    .dataframe tbody tr th {\n",
       "        vertical-align: top;\n",
       "    }\n",
       "\n",
       "    .dataframe thead th {\n",
       "        text-align: right;\n",
       "    }\n",
       "</style>\n",
       "<table border=\"1\" class=\"dataframe\">\n",
       "  <thead>\n",
       "    <tr style=\"text-align: right;\">\n",
       "      <th></th>\n",
       "      <th>Player_name</th>\n",
       "      <th>Images</th>\n",
       "      <th>Age</th>\n",
       "      <th>National_team</th>\n",
       "      <th>Positions</th>\n",
       "      <th>Overall</th>\n",
       "      <th>Potential_overall</th>\n",
       "      <th>Current_club</th>\n",
       "      <th>Contract_start</th>\n",
       "      <th>Contract_end</th>\n",
       "      <th>Value</th>\n",
       "      <th>Wage</th>\n",
       "      <th>Total_stats</th>\n",
       "    </tr>\n",
       "  </thead>\n",
       "  <tbody>\n",
       "    <tr>\n",
       "      <th>0</th>\n",
       "      <td>T. Almada</td>\n",
       "      <td>https://cdn.sofifa.net/players/245/371/24_60.png</td>\n",
       "      <td>22</td>\n",
       "      <td>Argentina</td>\n",
       "      <td>['CAM', 'CM', 'CF']</td>\n",
       "      <td>79</td>\n",
       "      <td>87</td>\n",
       "      <td>Atlanta United</td>\n",
       "      <td>2022</td>\n",
       "      <td>2025</td>\n",
       "      <td>€39.5M</td>\n",
       "      <td>€10K</td>\n",
       "      <td>2050</td>\n",
       "    </tr>\n",
       "    <tr>\n",
       "      <th>1</th>\n",
       "      <td>L. Palma</td>\n",
       "      <td>https://cdn.sofifa.net/player_0.svg</td>\n",
       "      <td>23</td>\n",
       "      <td>Honduras</td>\n",
       "      <td>['LW']</td>\n",
       "      <td>69</td>\n",
       "      <td>75</td>\n",
       "      <td>Celtic</td>\n",
       "      <td>2023</td>\n",
       "      <td>2028</td>\n",
       "      <td>€2.2M</td>\n",
       "      <td>€22K</td>\n",
       "      <td>1794</td>\n",
       "    </tr>\n",
       "    <tr>\n",
       "      <th>2</th>\n",
       "      <td>R. Lavia</td>\n",
       "      <td>https://cdn.sofifa.net/players/263/620/24_60.png</td>\n",
       "      <td>19</td>\n",
       "      <td>Belgium</td>\n",
       "      <td>['CDM']</td>\n",
       "      <td>73</td>\n",
       "      <td>86</td>\n",
       "      <td>Chelsea</td>\n",
       "      <td>2023</td>\n",
       "      <td>2030</td>\n",
       "      <td>€7M</td>\n",
       "      <td>€32K</td>\n",
       "      <td>1829</td>\n",
       "    </tr>\n",
       "    <tr>\n",
       "      <th>3</th>\n",
       "      <td>W. Zaïre-Emery</td>\n",
       "      <td>https://cdn.sofifa.net/players/270/673/24_60.png</td>\n",
       "      <td>17</td>\n",
       "      <td>France</td>\n",
       "      <td>['CM', 'CDM']</td>\n",
       "      <td>77</td>\n",
       "      <td>89</td>\n",
       "      <td>Paris Saint Germain</td>\n",
       "      <td>2022</td>\n",
       "      <td>2025</td>\n",
       "      <td>€24M</td>\n",
       "      <td>€9K</td>\n",
       "      <td>2080</td>\n",
       "    </tr>\n",
       "    <tr>\n",
       "      <th>4</th>\n",
       "      <td>Gabri Veiga</td>\n",
       "      <td>https://cdn.sofifa.net/players/258/729/24_60.png</td>\n",
       "      <td>21</td>\n",
       "      <td>Spain</td>\n",
       "      <td>['CM', 'CAM']</td>\n",
       "      <td>78</td>\n",
       "      <td>89</td>\n",
       "      <td>Al Ahli Jeddah</td>\n",
       "      <td>2023</td>\n",
       "      <td>2026</td>\n",
       "      <td>€31.5M</td>\n",
       "      <td>€28K</td>\n",
       "      <td>1944</td>\n",
       "    </tr>\n",
       "  </tbody>\n",
       "</table>\n",
       "</div>"
      ],
      "text/plain": [
       "      Player_name                                            Images  Age  \\\n",
       "0       T. Almada  https://cdn.sofifa.net/players/245/371/24_60.png   22   \n",
       "1        L. Palma               https://cdn.sofifa.net/player_0.svg   23   \n",
       "2        R. Lavia  https://cdn.sofifa.net/players/263/620/24_60.png   19   \n",
       "3  W. Zaïre-Emery  https://cdn.sofifa.net/players/270/673/24_60.png   17   \n",
       "4     Gabri Veiga  https://cdn.sofifa.net/players/258/729/24_60.png   21   \n",
       "\n",
       "  National_team            Positions  Overall  Potential_overall  \\\n",
       "0     Argentina  ['CAM', 'CM', 'CF']       79                 87   \n",
       "1      Honduras               ['LW']       69                 75   \n",
       "2       Belgium              ['CDM']       73                 86   \n",
       "3        France        ['CM', 'CDM']       77                 89   \n",
       "4         Spain        ['CM', 'CAM']       78                 89   \n",
       "\n",
       "          Current_club Contract_start Contract_end   Value  Wage  Total_stats  \n",
       "0       Atlanta United          2022          2025  €39.5M  €10K         2050  \n",
       "1               Celtic          2023          2028   €2.2M  €22K         1794  \n",
       "2              Chelsea          2023          2030     €7M  €32K         1829  \n",
       "3  Paris Saint Germain          2022          2025    €24M   €9K         2080  \n",
       "4       Al Ahli Jeddah          2023          2026  €31.5M  €28K         1944  "
      ]
     },
     "execution_count": 17,
     "metadata": {},
     "output_type": "execute_result"
    }
   ],
   "source": [
    "df.head()"
   ]
  },
  {
   "cell_type": "code",
   "execution_count": 18,
   "id": "309fdb59",
   "metadata": {},
   "outputs": [],
   "source": [
    "def convert_to_numeric(value):\n",
    "    value = str(value)\n",
    "    value = value.replace('€', '')  \n",
    "    if 'K' in value:\n",
    "        value = float(value.replace('K', '')) * 1000 \n",
    "    elif 'M' in value:\n",
    "        value = float(value.replace('M', '')) * 1000000\n",
    "    elif 'B' in value:\n",
    "        value = float(value.replace('B', '')) * 1000000000\n",
    "    return value"
   ]
  },
  {
   "cell_type": "code",
   "execution_count": 19,
   "id": "bf0e5db3",
   "metadata": {},
   "outputs": [],
   "source": [
    "def convert_pos(value):\n",
    "    value = str(value)\n",
    "    value = value.replace(\"[\", \"\")\n",
    "    value = value.replace(\"]\", \"\")\n",
    "    value = value.replace(\"'\", \"\")\n",
    "    return str(value)"
   ]
  },
  {
   "cell_type": "code",
   "execution_count": 20,
   "id": "2acbd13e",
   "metadata": {},
   "outputs": [],
   "source": [
    "df['Player_name'] = df['Player_name'].apply(name_process)"
   ]
  },
  {
   "cell_type": "code",
   "execution_count": 21,
   "id": "a63d3517",
   "metadata": {},
   "outputs": [],
   "source": [
    "df['Value'] = df['Value'].apply(convert_to_numeric)"
   ]
  },
  {
   "cell_type": "code",
   "execution_count": 22,
   "id": "0063180d",
   "metadata": {},
   "outputs": [],
   "source": [
    "df['Wage'] = df['Wage'].apply(convert_to_numeric)"
   ]
  },
  {
   "cell_type": "code",
   "execution_count": 23,
   "id": "9697bab9",
   "metadata": {},
   "outputs": [],
   "source": [
    "df['Positions'] = df['Positions'].apply(convert_pos)"
   ]
  },
  {
   "cell_type": "code",
   "execution_count": 24,
   "id": "032a3cf5",
   "metadata": {},
   "outputs": [
    {
     "data": {
      "text/html": [
       "<div>\n",
       "<style scoped>\n",
       "    .dataframe tbody tr th:only-of-type {\n",
       "        vertical-align: middle;\n",
       "    }\n",
       "\n",
       "    .dataframe tbody tr th {\n",
       "        vertical-align: top;\n",
       "    }\n",
       "\n",
       "    .dataframe thead th {\n",
       "        text-align: right;\n",
       "    }\n",
       "</style>\n",
       "<table border=\"1\" class=\"dataframe\">\n",
       "  <thead>\n",
       "    <tr style=\"text-align: right;\">\n",
       "      <th></th>\n",
       "      <th>Player_name</th>\n",
       "      <th>Images</th>\n",
       "      <th>Age</th>\n",
       "      <th>National_team</th>\n",
       "      <th>Positions</th>\n",
       "      <th>Overall</th>\n",
       "      <th>Potential_overall</th>\n",
       "      <th>Current_club</th>\n",
       "      <th>Contract_start</th>\n",
       "      <th>Contract_end</th>\n",
       "      <th>Value</th>\n",
       "      <th>Wage</th>\n",
       "      <th>Total_stats</th>\n",
       "    </tr>\n",
       "  </thead>\n",
       "  <tbody>\n",
       "    <tr>\n",
       "      <th>0</th>\n",
       "      <td>T. Almada</td>\n",
       "      <td>https://cdn.sofifa.net/players/245/371/24_60.png</td>\n",
       "      <td>22</td>\n",
       "      <td>Argentina</td>\n",
       "      <td>CAM, CM, CF</td>\n",
       "      <td>79</td>\n",
       "      <td>87</td>\n",
       "      <td>Atlanta United</td>\n",
       "      <td>2022</td>\n",
       "      <td>2025</td>\n",
       "      <td>39500000.0</td>\n",
       "      <td>10000.0</td>\n",
       "      <td>2050</td>\n",
       "    </tr>\n",
       "    <tr>\n",
       "      <th>1</th>\n",
       "      <td>L. Palma</td>\n",
       "      <td>https://cdn.sofifa.net/player_0.svg</td>\n",
       "      <td>23</td>\n",
       "      <td>Honduras</td>\n",
       "      <td>LW</td>\n",
       "      <td>69</td>\n",
       "      <td>75</td>\n",
       "      <td>Celtic</td>\n",
       "      <td>2023</td>\n",
       "      <td>2028</td>\n",
       "      <td>2200000.0</td>\n",
       "      <td>22000.0</td>\n",
       "      <td>1794</td>\n",
       "    </tr>\n",
       "    <tr>\n",
       "      <th>2</th>\n",
       "      <td>R. Lavia</td>\n",
       "      <td>https://cdn.sofifa.net/players/263/620/24_60.png</td>\n",
       "      <td>19</td>\n",
       "      <td>Belgium</td>\n",
       "      <td>CDM</td>\n",
       "      <td>73</td>\n",
       "      <td>86</td>\n",
       "      <td>Chelsea</td>\n",
       "      <td>2023</td>\n",
       "      <td>2030</td>\n",
       "      <td>7000000.0</td>\n",
       "      <td>32000.0</td>\n",
       "      <td>1829</td>\n",
       "    </tr>\n",
       "    <tr>\n",
       "      <th>3</th>\n",
       "      <td>W. Zaïre-Emery</td>\n",
       "      <td>https://cdn.sofifa.net/players/270/673/24_60.png</td>\n",
       "      <td>17</td>\n",
       "      <td>France</td>\n",
       "      <td>CM, CDM</td>\n",
       "      <td>77</td>\n",
       "      <td>89</td>\n",
       "      <td>Paris Saint Germain</td>\n",
       "      <td>2022</td>\n",
       "      <td>2025</td>\n",
       "      <td>24000000.0</td>\n",
       "      <td>9000.0</td>\n",
       "      <td>2080</td>\n",
       "    </tr>\n",
       "    <tr>\n",
       "      <th>4</th>\n",
       "      <td>Gabri Veiga</td>\n",
       "      <td>https://cdn.sofifa.net/players/258/729/24_60.png</td>\n",
       "      <td>21</td>\n",
       "      <td>Spain</td>\n",
       "      <td>CM, CAM</td>\n",
       "      <td>78</td>\n",
       "      <td>89</td>\n",
       "      <td>Al Ahli Jeddah</td>\n",
       "      <td>2023</td>\n",
       "      <td>2026</td>\n",
       "      <td>31500000.0</td>\n",
       "      <td>28000.0</td>\n",
       "      <td>1944</td>\n",
       "    </tr>\n",
       "  </tbody>\n",
       "</table>\n",
       "</div>"
      ],
      "text/plain": [
       "      Player_name                                            Images  Age  \\\n",
       "0       T. Almada  https://cdn.sofifa.net/players/245/371/24_60.png   22   \n",
       "1        L. Palma               https://cdn.sofifa.net/player_0.svg   23   \n",
       "2        R. Lavia  https://cdn.sofifa.net/players/263/620/24_60.png   19   \n",
       "3  W. Zaïre-Emery  https://cdn.sofifa.net/players/270/673/24_60.png   17   \n",
       "4     Gabri Veiga  https://cdn.sofifa.net/players/258/729/24_60.png   21   \n",
       "\n",
       "  National_team    Positions  Overall  Potential_overall         Current_club  \\\n",
       "0     Argentina  CAM, CM, CF       79                 87       Atlanta United   \n",
       "1      Honduras           LW       69                 75               Celtic   \n",
       "2       Belgium          CDM       73                 86              Chelsea   \n",
       "3        France      CM, CDM       77                 89  Paris Saint Germain   \n",
       "4         Spain      CM, CAM       78                 89       Al Ahli Jeddah   \n",
       "\n",
       "  Contract_start Contract_end       Value     Wage  Total_stats  \n",
       "0          2022          2025  39500000.0  10000.0         2050  \n",
       "1          2023          2028   2200000.0  22000.0         1794  \n",
       "2          2023          2030   7000000.0  32000.0         1829  \n",
       "3          2022          2025  24000000.0   9000.0         2080  \n",
       "4          2023          2026  31500000.0  28000.0         1944  "
      ]
     },
     "execution_count": 24,
     "metadata": {},
     "output_type": "execute_result"
    }
   ],
   "source": [
    "df.head()"
   ]
  },
  {
   "cell_type": "code",
   "execution_count": 25,
   "id": "4fffeeb7",
   "metadata": {},
   "outputs": [],
   "source": [
    "df['Value'] = df['Value'].astype(float)"
   ]
  },
  {
   "cell_type": "code",
   "execution_count": 26,
   "id": "a2320f19",
   "metadata": {},
   "outputs": [],
   "source": [
    "df['Wage'] = df['Wage'].astype(float)"
   ]
  },
  {
   "cell_type": "code",
   "execution_count": 27,
   "id": "ef301201",
   "metadata": {},
   "outputs": [
    {
     "data": {
      "text/plain": [
       "Player_name           object\n",
       "Images                object\n",
       "Age                    int64\n",
       "National_team         object\n",
       "Positions             object\n",
       "Overall                int64\n",
       "Potential_overall      int64\n",
       "Current_club          object\n",
       "Contract_start        object\n",
       "Contract_end          object\n",
       "Value                float64\n",
       "Wage                 float64\n",
       "Total_stats            int64\n",
       "dtype: object"
      ]
     },
     "execution_count": 27,
     "metadata": {},
     "output_type": "execute_result"
    }
   ],
   "source": [
    "df.dtypes"
   ]
  },
  {
   "cell_type": "code",
   "execution_count": 28,
   "id": "d0e9cf09",
   "metadata": {},
   "outputs": [
    {
     "data": {
      "text/html": [
       "<div>\n",
       "<style scoped>\n",
       "    .dataframe tbody tr th:only-of-type {\n",
       "        vertical-align: middle;\n",
       "    }\n",
       "\n",
       "    .dataframe tbody tr th {\n",
       "        vertical-align: top;\n",
       "    }\n",
       "\n",
       "    .dataframe thead th {\n",
       "        text-align: right;\n",
       "    }\n",
       "</style>\n",
       "<table border=\"1\" class=\"dataframe\">\n",
       "  <thead>\n",
       "    <tr style=\"text-align: right;\">\n",
       "      <th></th>\n",
       "      <th>Age</th>\n",
       "      <th>Overall</th>\n",
       "      <th>Potential_overall</th>\n",
       "      <th>Value</th>\n",
       "      <th>Wage</th>\n",
       "      <th>Total_stats</th>\n",
       "    </tr>\n",
       "  </thead>\n",
       "  <tbody>\n",
       "    <tr>\n",
       "      <th>count</th>\n",
       "      <td>2306.000000</td>\n",
       "      <td>2306.000000</td>\n",
       "      <td>2306.000000</td>\n",
       "      <td>2.306000e+03</td>\n",
       "      <td>2306.000000</td>\n",
       "      <td>2306.000000</td>\n",
       "    </tr>\n",
       "    <tr>\n",
       "      <th>mean</th>\n",
       "      <td>24.049870</td>\n",
       "      <td>72.556375</td>\n",
       "      <td>78.978317</td>\n",
       "      <td>1.087117e+07</td>\n",
       "      <td>28703.837814</td>\n",
       "      <td>1786.042931</td>\n",
       "    </tr>\n",
       "    <tr>\n",
       "      <th>std</th>\n",
       "      <td>4.513141</td>\n",
       "      <td>6.871525</td>\n",
       "      <td>4.999736</td>\n",
       "      <td>1.688357e+07</td>\n",
       "      <td>38389.661725</td>\n",
       "      <td>259.468657</td>\n",
       "    </tr>\n",
       "    <tr>\n",
       "      <th>min</th>\n",
       "      <td>16.000000</td>\n",
       "      <td>49.000000</td>\n",
       "      <td>54.000000</td>\n",
       "      <td>0.000000e+00</td>\n",
       "      <td>0.000000</td>\n",
       "      <td>791.000000</td>\n",
       "    </tr>\n",
       "    <tr>\n",
       "      <th>25%</th>\n",
       "      <td>21.000000</td>\n",
       "      <td>68.000000</td>\n",
       "      <td>76.000000</td>\n",
       "      <td>1.900000e+06</td>\n",
       "      <td>5000.000000</td>\n",
       "      <td>1647.250000</td>\n",
       "    </tr>\n",
       "    <tr>\n",
       "      <th>50%</th>\n",
       "      <td>23.000000</td>\n",
       "      <td>73.000000</td>\n",
       "      <td>79.000000</td>\n",
       "      <td>4.300000e+06</td>\n",
       "      <td>15000.000000</td>\n",
       "      <td>1820.500000</td>\n",
       "    </tr>\n",
       "    <tr>\n",
       "      <th>75%</th>\n",
       "      <td>27.000000</td>\n",
       "      <td>77.000000</td>\n",
       "      <td>82.000000</td>\n",
       "      <td>1.250000e+07</td>\n",
       "      <td>38000.000000</td>\n",
       "      <td>1962.000000</td>\n",
       "    </tr>\n",
       "    <tr>\n",
       "      <th>max</th>\n",
       "      <td>44.000000</td>\n",
       "      <td>91.000000</td>\n",
       "      <td>94.000000</td>\n",
       "      <td>1.850000e+08</td>\n",
       "      <td>350000.000000</td>\n",
       "      <td>2323.000000</td>\n",
       "    </tr>\n",
       "  </tbody>\n",
       "</table>\n",
       "</div>"
      ],
      "text/plain": [
       "               Age      Overall  Potential_overall         Value  \\\n",
       "count  2306.000000  2306.000000        2306.000000  2.306000e+03   \n",
       "mean     24.049870    72.556375          78.978317  1.087117e+07   \n",
       "std       4.513141     6.871525           4.999736  1.688357e+07   \n",
       "min      16.000000    49.000000          54.000000  0.000000e+00   \n",
       "25%      21.000000    68.000000          76.000000  1.900000e+06   \n",
       "50%      23.000000    73.000000          79.000000  4.300000e+06   \n",
       "75%      27.000000    77.000000          82.000000  1.250000e+07   \n",
       "max      44.000000    91.000000          94.000000  1.850000e+08   \n",
       "\n",
       "                Wage  Total_stats  \n",
       "count    2306.000000  2306.000000  \n",
       "mean    28703.837814  1786.042931  \n",
       "std     38389.661725   259.468657  \n",
       "min         0.000000   791.000000  \n",
       "25%      5000.000000  1647.250000  \n",
       "50%     15000.000000  1820.500000  \n",
       "75%     38000.000000  1962.000000  \n",
       "max    350000.000000  2323.000000  "
      ]
     },
     "execution_count": 28,
     "metadata": {},
     "output_type": "execute_result"
    }
   ],
   "source": [
    "df.describe()"
   ]
  },
  {
   "cell_type": "code",
   "execution_count": 37,
   "id": "bc8a77e4",
   "metadata": {},
   "outputs": [],
   "source": [
    "filename = 'data/updated_trending_football_players.xlsx'"
   ]
  },
  {
   "cell_type": "code",
   "execution_count": 39,
   "id": "b3267f30",
   "metadata": {},
   "outputs": [],
   "source": [
    "df.to_excel(filename, index = False)"
   ]
  },
  {
   "cell_type": "code",
   "execution_count": null,
   "id": "6e4d3f4f",
   "metadata": {},
   "outputs": [],
   "source": []
  }
 ],
 "metadata": {
  "kernelspec": {
   "display_name": "Python 3 (ipykernel)",
   "language": "python",
   "name": "python3"
  },
  "language_info": {
   "codemirror_mode": {
    "name": "ipython",
    "version": 3
   },
   "file_extension": ".py",
   "mimetype": "text/x-python",
   "name": "python",
   "nbconvert_exporter": "python",
   "pygments_lexer": "ipython3",
   "version": "3.10.9"
  }
 },
 "nbformat": 4,
 "nbformat_minor": 5
}
